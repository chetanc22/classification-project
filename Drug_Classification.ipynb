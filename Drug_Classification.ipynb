{
  "nbformat": 4,
  "nbformat_minor": 0,
  "metadata": {
    "colab": {
      "name": "Drug Classification.ipynb",
      "provenance": [],
      "collapsed_sections": []
    },
    "kernelspec": {
      "name": "python3",
      "display_name": "Python 3"
    },
    "language_info": {
      "name": "python"
    }
  },
  "cells": [
    {
      "cell_type": "code",
      "execution_count": 1,
      "metadata": {
        "colab": {
          "base_uri": "https://localhost:8080/"
        },
        "id": "F_gE9X2sRUi2",
        "outputId": "d4720c85-d2d3-4368-ed44-86a719ff9034"
      },
      "outputs": [
        {
          "output_type": "stream",
          "name": "stdout",
          "text": [
            "Mounted at /content/gdrive\n"
          ]
        }
      ],
      "source": [
        "from google.colab import drive\n",
        "\n",
        "drive.mount(\"/content/gdrive\")"
      ]
    },
    {
      "cell_type": "markdown",
      "source": [
        "### Drug Classification"
      ],
      "metadata": {
        "id": "pT96bZmFR5hO"
      }
    },
    {
      "cell_type": "markdown",
      "source": [
        "Problem Statement:-\n",
        "\n",
        "XYZ Pharma company/Hospital wants to build machine learning model to predict which drug type is good for the patient based on patient details."
      ],
      "metadata": {
        "id": "BV2PxSiuR951"
      }
    },
    {
      "cell_type": "markdown",
      "source": [
        "### Import Liabraries"
      ],
      "metadata": {
        "id": "423KSmUWSCbf"
      }
    },
    {
      "cell_type": "code",
      "source": [
        "import numpy as np\n",
        "import pandas as pd\n",
        "import matplotlib.pyplot as plt\n",
        "import seaborn as sns"
      ],
      "metadata": {
        "id": "x9z_3O2tSEUd"
      },
      "execution_count": 2,
      "outputs": []
    },
    {
      "cell_type": "markdown",
      "source": [
        "## Loading and Exploring Data:-"
      ],
      "metadata": {
        "id": "H3a4TUbsSJy-"
      }
    },
    {
      "cell_type": "code",
      "source": [
        "drug = pd.read_csv('/content/drug200.csv')"
      ],
      "metadata": {
        "id": "ZhKYIVegSLwf"
      },
      "execution_count": 3,
      "outputs": []
    },
    {
      "cell_type": "code",
      "source": [
        "drug.head()"
      ],
      "metadata": {
        "colab": {
          "base_uri": "https://localhost:8080/",
          "height": 206
        },
        "id": "xvkgzfLmSSWC",
        "outputId": "c2aa6b7e-7994-4d0a-dd6e-16797a870215"
      },
      "execution_count": 4,
      "outputs": [
        {
          "output_type": "execute_result",
          "data": {
            "text/html": [
              "\n",
              "  <div id=\"df-13ab333e-8765-42e9-b692-4953378bebad\">\n",
              "    <div class=\"colab-df-container\">\n",
              "      <div>\n",
              "<style scoped>\n",
              "    .dataframe tbody tr th:only-of-type {\n",
              "        vertical-align: middle;\n",
              "    }\n",
              "\n",
              "    .dataframe tbody tr th {\n",
              "        vertical-align: top;\n",
              "    }\n",
              "\n",
              "    .dataframe thead th {\n",
              "        text-align: right;\n",
              "    }\n",
              "</style>\n",
              "<table border=\"1\" class=\"dataframe\">\n",
              "  <thead>\n",
              "    <tr style=\"text-align: right;\">\n",
              "      <th></th>\n",
              "      <th>Age</th>\n",
              "      <th>Sex</th>\n",
              "      <th>BP</th>\n",
              "      <th>Cholesterol</th>\n",
              "      <th>Na_to_K</th>\n",
              "      <th>Drug</th>\n",
              "    </tr>\n",
              "  </thead>\n",
              "  <tbody>\n",
              "    <tr>\n",
              "      <th>0</th>\n",
              "      <td>23</td>\n",
              "      <td>F</td>\n",
              "      <td>HIGH</td>\n",
              "      <td>HIGH</td>\n",
              "      <td>25.355</td>\n",
              "      <td>DrugY</td>\n",
              "    </tr>\n",
              "    <tr>\n",
              "      <th>1</th>\n",
              "      <td>47</td>\n",
              "      <td>M</td>\n",
              "      <td>LOW</td>\n",
              "      <td>HIGH</td>\n",
              "      <td>13.093</td>\n",
              "      <td>drugC</td>\n",
              "    </tr>\n",
              "    <tr>\n",
              "      <th>2</th>\n",
              "      <td>47</td>\n",
              "      <td>M</td>\n",
              "      <td>LOW</td>\n",
              "      <td>HIGH</td>\n",
              "      <td>10.114</td>\n",
              "      <td>drugC</td>\n",
              "    </tr>\n",
              "    <tr>\n",
              "      <th>3</th>\n",
              "      <td>28</td>\n",
              "      <td>F</td>\n",
              "      <td>NORMAL</td>\n",
              "      <td>HIGH</td>\n",
              "      <td>7.798</td>\n",
              "      <td>drugX</td>\n",
              "    </tr>\n",
              "    <tr>\n",
              "      <th>4</th>\n",
              "      <td>61</td>\n",
              "      <td>F</td>\n",
              "      <td>LOW</td>\n",
              "      <td>HIGH</td>\n",
              "      <td>18.043</td>\n",
              "      <td>DrugY</td>\n",
              "    </tr>\n",
              "  </tbody>\n",
              "</table>\n",
              "</div>\n",
              "      <button class=\"colab-df-convert\" onclick=\"convertToInteractive('df-13ab333e-8765-42e9-b692-4953378bebad')\"\n",
              "              title=\"Convert this dataframe to an interactive table.\"\n",
              "              style=\"display:none;\">\n",
              "        \n",
              "  <svg xmlns=\"http://www.w3.org/2000/svg\" height=\"24px\"viewBox=\"0 0 24 24\"\n",
              "       width=\"24px\">\n",
              "    <path d=\"M0 0h24v24H0V0z\" fill=\"none\"/>\n",
              "    <path d=\"M18.56 5.44l.94 2.06.94-2.06 2.06-.94-2.06-.94-.94-2.06-.94 2.06-2.06.94zm-11 1L8.5 8.5l.94-2.06 2.06-.94-2.06-.94L8.5 2.5l-.94 2.06-2.06.94zm10 10l.94 2.06.94-2.06 2.06-.94-2.06-.94-.94-2.06-.94 2.06-2.06.94z\"/><path d=\"M17.41 7.96l-1.37-1.37c-.4-.4-.92-.59-1.43-.59-.52 0-1.04.2-1.43.59L10.3 9.45l-7.72 7.72c-.78.78-.78 2.05 0 2.83L4 21.41c.39.39.9.59 1.41.59.51 0 1.02-.2 1.41-.59l7.78-7.78 2.81-2.81c.8-.78.8-2.07 0-2.86zM5.41 20L4 18.59l7.72-7.72 1.47 1.35L5.41 20z\"/>\n",
              "  </svg>\n",
              "      </button>\n",
              "      \n",
              "  <style>\n",
              "    .colab-df-container {\n",
              "      display:flex;\n",
              "      flex-wrap:wrap;\n",
              "      gap: 12px;\n",
              "    }\n",
              "\n",
              "    .colab-df-convert {\n",
              "      background-color: #E8F0FE;\n",
              "      border: none;\n",
              "      border-radius: 50%;\n",
              "      cursor: pointer;\n",
              "      display: none;\n",
              "      fill: #1967D2;\n",
              "      height: 32px;\n",
              "      padding: 0 0 0 0;\n",
              "      width: 32px;\n",
              "    }\n",
              "\n",
              "    .colab-df-convert:hover {\n",
              "      background-color: #E2EBFA;\n",
              "      box-shadow: 0px 1px 2px rgba(60, 64, 67, 0.3), 0px 1px 3px 1px rgba(60, 64, 67, 0.15);\n",
              "      fill: #174EA6;\n",
              "    }\n",
              "\n",
              "    [theme=dark] .colab-df-convert {\n",
              "      background-color: #3B4455;\n",
              "      fill: #D2E3FC;\n",
              "    }\n",
              "\n",
              "    [theme=dark] .colab-df-convert:hover {\n",
              "      background-color: #434B5C;\n",
              "      box-shadow: 0px 1px 3px 1px rgba(0, 0, 0, 0.15);\n",
              "      filter: drop-shadow(0px 1px 2px rgba(0, 0, 0, 0.3));\n",
              "      fill: #FFFFFF;\n",
              "    }\n",
              "  </style>\n",
              "\n",
              "      <script>\n",
              "        const buttonEl =\n",
              "          document.querySelector('#df-13ab333e-8765-42e9-b692-4953378bebad button.colab-df-convert');\n",
              "        buttonEl.style.display =\n",
              "          google.colab.kernel.accessAllowed ? 'block' : 'none';\n",
              "\n",
              "        async function convertToInteractive(key) {\n",
              "          const element = document.querySelector('#df-13ab333e-8765-42e9-b692-4953378bebad');\n",
              "          const dataTable =\n",
              "            await google.colab.kernel.invokeFunction('convertToInteractive',\n",
              "                                                     [key], {});\n",
              "          if (!dataTable) return;\n",
              "\n",
              "          const docLinkHtml = 'Like what you see? Visit the ' +\n",
              "            '<a target=\"_blank\" href=https://colab.research.google.com/notebooks/data_table.ipynb>data table notebook</a>'\n",
              "            + ' to learn more about interactive tables.';\n",
              "          element.innerHTML = '';\n",
              "          dataTable['output_type'] = 'display_data';\n",
              "          await google.colab.output.renderOutput(dataTable, element);\n",
              "          const docLink = document.createElement('div');\n",
              "          docLink.innerHTML = docLinkHtml;\n",
              "          element.appendChild(docLink);\n",
              "        }\n",
              "      </script>\n",
              "    </div>\n",
              "  </div>\n",
              "  "
            ],
            "text/plain": [
              "   Age Sex      BP Cholesterol  Na_to_K   Drug\n",
              "0   23   F    HIGH        HIGH   25.355  DrugY\n",
              "1   47   M     LOW        HIGH   13.093  drugC\n",
              "2   47   M     LOW        HIGH   10.114  drugC\n",
              "3   28   F  NORMAL        HIGH    7.798  drugX\n",
              "4   61   F     LOW        HIGH   18.043  DrugY"
            ]
          },
          "metadata": {},
          "execution_count": 4
        }
      ]
    },
    {
      "cell_type": "code",
      "source": [
        "drug.shape"
      ],
      "metadata": {
        "colab": {
          "base_uri": "https://localhost:8080/"
        },
        "id": "MpVVHvd8SbmP",
        "outputId": "d5ea7ef7-474d-402a-e120-7b14d386b98f"
      },
      "execution_count": 5,
      "outputs": [
        {
          "output_type": "execute_result",
          "data": {
            "text/plain": [
              "(200, 6)"
            ]
          },
          "metadata": {},
          "execution_count": 5
        }
      ]
    },
    {
      "cell_type": "code",
      "source": [
        "drug.info"
      ],
      "metadata": {
        "colab": {
          "base_uri": "https://localhost:8080/"
        },
        "id": "YsoC5Z8gSeqg",
        "outputId": "9c069b6a-77f5-44e8-f064-e59909aaa4a5"
      },
      "execution_count": 6,
      "outputs": [
        {
          "output_type": "execute_result",
          "data": {
            "text/plain": [
              "<bound method DataFrame.info of      Age Sex      BP Cholesterol  Na_to_K   Drug\n",
              "0     23   F    HIGH        HIGH   25.355  DrugY\n",
              "1     47   M     LOW        HIGH   13.093  drugC\n",
              "2     47   M     LOW        HIGH   10.114  drugC\n",
              "3     28   F  NORMAL        HIGH    7.798  drugX\n",
              "4     61   F     LOW        HIGH   18.043  DrugY\n",
              "..   ...  ..     ...         ...      ...    ...\n",
              "195   56   F     LOW        HIGH   11.567  drugC\n",
              "196   16   M     LOW        HIGH   12.006  drugC\n",
              "197   52   M  NORMAL        HIGH    9.894  drugX\n",
              "198   23   M  NORMAL      NORMAL   14.020  drugX\n",
              "199   40   F     LOW      NORMAL   11.349  drugX\n",
              "\n",
              "[200 rows x 6 columns]>"
            ]
          },
          "metadata": {},
          "execution_count": 6
        }
      ]
    },
    {
      "cell_type": "code",
      "source": [
        "drug.columns"
      ],
      "metadata": {
        "colab": {
          "base_uri": "https://localhost:8080/"
        },
        "id": "o3Qreu_qShQU",
        "outputId": "af2a7efa-0ae3-4168-a39c-bab827491bd1"
      },
      "execution_count": 7,
      "outputs": [
        {
          "output_type": "execute_result",
          "data": {
            "text/plain": [
              "Index(['Age', 'Sex', 'BP', 'Cholesterol', 'Na_to_K', 'Drug'], dtype='object')"
            ]
          },
          "metadata": {},
          "execution_count": 7
        }
      ]
    },
    {
      "cell_type": "code",
      "source": [
        "#Visualization\n",
        "# get all the unique values in the 'Drug' column\n",
        "Drug_ = drug['Drug'].unique()\n",
        "#make a dictionary to be able to replace the string values with integers\n",
        "Drug_dict=dict(enumerate(Drug_))\n",
        "Drug_dict\n",
        "#{0: 'DrugY', 1: 'drugC', 2: 'drugX', 3: 'drugA', 4: 'drugB'} Although it doesn't really matter, but I don't like the order.\n",
        "Drug_dict={0: 'drugA', 1: 'drugB', 2: 'drugC', 3: 'drugX', 4: 'DrugY'}\n",
        "#switch the value-keys\n",
        "Drug_dict2 = {y:x for x,y in Drug_dict.items()}\n",
        "drug['Drug_int']=drug['Drug'].replace(to_replace=Drug_dict2)\n",
        "drug['Drug_int']"
      ],
      "metadata": {
        "colab": {
          "base_uri": "https://localhost:8080/"
        },
        "id": "Hisw4iHKSqRc",
        "outputId": "f2075bc6-8a67-4212-cccf-0d4cb2c98f2b"
      },
      "execution_count": 9,
      "outputs": [
        {
          "output_type": "execute_result",
          "data": {
            "text/plain": [
              "0      4\n",
              "1      2\n",
              "2      2\n",
              "3      3\n",
              "4      4\n",
              "      ..\n",
              "195    2\n",
              "196    2\n",
              "197    3\n",
              "198    3\n",
              "199    3\n",
              "Name: Drug_int, Length: 200, dtype: int64"
            ]
          },
          "metadata": {},
          "execution_count": 9
        }
      ]
    },
    {
      "cell_type": "code",
      "source": [
        "colors=np.array(drug['Drug_int'])\n",
        "scatter=plt.scatter(drug['Age'], drug['Na_to_K'], s=None, c=colors, marker='*', cmap=None, norm=None, vmin=None, vmax=None, alpha=None, linewidths=None)\n",
        "plt.xlabel('Age')\n",
        "plt.ylabel('Na_to_K')\n",
        "plt.title('Type of drug')\n",
        "#plt.axis([0, 1, 0, 0.4])\n",
        "legend = plt.legend(handles=scatter.legend_elements()[0], labels=Drug_dict.values(), loc='upper right', title='Drug type')\n",
        "plt.show()"
      ],
      "metadata": {
        "colab": {
          "base_uri": "https://localhost:8080/",
          "height": 294
        },
        "id": "P8lRednMS3MC",
        "outputId": "bce3b9ad-ce75-4cfa-a559-001ea34c1bd3"
      },
      "execution_count": 11,
      "outputs": [
        {
          "output_type": "display_data",
          "data": {
            "image/png": "[encoded data removed]",
            "text/plain": [
              "<Figure size 432x288 with 1 Axes>"
            ]
          },
          "metadata": {
            "needs_background": "light"
          }
        }
      ]
    },
    {
      "cell_type": "code",
      "source": [
        "print(drug.corr())"
      ],
      "metadata": {
        "colab": {
          "base_uri": "https://localhost:8080/"
        },
        "id": "OobsfPs7TDQP",
        "outputId": "d51a5d30-62b4-4e7a-db2d-d1d160869eda"
      },
      "execution_count": 12,
      "outputs": [
        {
          "output_type": "stream",
          "name": "stdout",
          "text": [
            "               Age   Na_to_K  Drug_int\n",
            "Age       1.000000 -0.063119 -0.004828\n",
            "Na_to_K  -0.063119  1.000000  0.589120\n",
            "Drug_int -0.004828  0.589120  1.000000\n"
          ]
        }
      ]
    },
    {
      "cell_type": "code",
      "source": [
        "# plotting correlation heatmap\n",
        "sns.heatmap(drug.corr(),annot=True)\n",
        "# displaying heatmap\n",
        "plt.title('Correlation matrix')\n",
        "plt.show()"
      ],
      "metadata": {
        "colab": {
          "base_uri": "https://localhost:8080/",
          "height": 282
        },
        "id": "yUU8iVxVTm4V",
        "outputId": "49d346a8-3cf2-46fd-8093-8e9cebd3fb69"
      },
      "execution_count": 13,
      "outputs": [
        {
          "output_type": "display_data",
          "data": {
            "image/png": "[encoded data removed]",
            "text/plain": [
              "<Figure size 432x288 with 2 Axes>"
            ]
          },
          "metadata": {
            "needs_background": "light"
          }
        }
      ]
    },
    {
      "cell_type": "code",
      "source": [
        "#teach the machine! \n",
        "\n",
        "# get all the unique values in the 'Sex' column\n",
        "Sex_ = drug['Sex'].unique()\n",
        "#make a dictionary to be able to replace the string values with integers\n",
        "Sex_dict=dict(enumerate(Sex_))\n",
        "#switch the value-keys\n",
        "Sex_dict2 = {y:x for x,y in Sex_dict.items()}\n",
        "drug['Sex_int']=drug['Sex'].replace(to_replace=Sex_dict2)\n",
        "drug['Sex_int']"
      ],
      "metadata": {
        "colab": {
          "base_uri": "https://localhost:8080/"
        },
        "id": "YD-a7IrGTs04",
        "outputId": "ada85378-5e2c-42d4-c8e6-a27393c218c1"
      },
      "execution_count": 14,
      "outputs": [
        {
          "output_type": "execute_result",
          "data": {
            "text/plain": [
              "0      0\n",
              "1      1\n",
              "2      1\n",
              "3      0\n",
              "4      0\n",
              "      ..\n",
              "195    0\n",
              "196    1\n",
              "197    1\n",
              "198    1\n",
              "199    0\n",
              "Name: Sex_int, Length: 200, dtype: int64"
            ]
          },
          "metadata": {},
          "execution_count": 14
        }
      ]
    },
    {
      "cell_type": "code",
      "source": [
        "#Let's do the same with the other columns:\n",
        "#columns_to_change=[drug['BP'], drug['Cholesterol'], drug['Drug']]\n",
        "BP_ = drug['BP'].unique()\n",
        "BP_dict=dict(enumerate(BP_))\n",
        "#BP_dict\n",
        "#{0: 'HIGH', 1: 'LOW', 2: 'NORMAL'} Uppsss! :D That's not the best dictionary, is it?\n",
        "BP_dict={0: 'LOW', 1: 'NORMAL', 2: 'HIGH'}\n",
        "#Much better. :)\n",
        "BP_dict2 = {y:x for x,y in BP_dict.items()}\n",
        "drug['BP_int']=drug['BP'].replace(to_replace=BP_dict2)\n",
        "#Now, scale it between 0 and 1:\n",
        "from mlxtend.preprocessing import minmax_scaling\n",
        "drug['BP_scaled']=minmax_scaling(np.array(drug['BP_int']), columns=[0])\n",
        "\n",
        "Cholesterol_= drug['Cholesterol'].unique()\n",
        "Cholesterol_dict=dict(enumerate(Cholesterol_))\n",
        "#Cholesterol_dict\n",
        "#{0: 'HIGH', 1: 'NORMAL'} Not so good... :)\n",
        "Cholesterol_dict={0: 'NORMAL', 1: 'HIGH'}\n",
        "#Much better\n",
        "Cholesterol_dict2 = {y:x for x,y in Cholesterol_dict.items()}\n",
        "drug['Cholesterol_int']=drug['Cholesterol'].replace(to_replace=Cholesterol_dict2)\n",
        "#drug['Cholesterol_int']\n",
        "#Now, scale it between 0 and 1:\n",
        "drug['Cholesterol_scaled']=minmax_scaling(np.array(drug['Cholesterol_int']), columns=[0])\n",
        "drug['Cholesterol_scaled']\n",
        "\n",
        "#Now, scale 'Age' between 0 and 1:\n",
        "drug['Age_scaled']=minmax_scaling(np.array(drug['Age']), columns=[0])\n",
        "drug['Age_scaled']\n",
        "\n",
        "#Now, scale 'Na_to_K' between 0 and 1:\n",
        "drug['Na_to_K_scaled']=minmax_scaling(np.array(drug['Na_to_K']), columns=[0])\n",
        "drug['Na_to_K_scaled']"
      ],
      "metadata": {
        "colab": {
          "base_uri": "https://localhost:8080/"
        },
        "id": "-_iqMCvJT45R",
        "outputId": "3692cdac-350a-4855-992e-b6ca8459cd92"
      },
      "execution_count": 19,
      "outputs": [
        {
          "output_type": "execute_result",
          "data": {
            "text/plain": [
              "0      0.596848\n",
              "1      0.213397\n",
              "2      0.120239\n",
              "3      0.047814\n",
              "4      0.368191\n",
              "         ...   \n",
              "195    0.165676\n",
              "196    0.179405\n",
              "197    0.113359\n",
              "198    0.242385\n",
              "199    0.158859\n",
              "Name: Na_to_K_scaled, Length: 200, dtype: float64"
            ]
          },
          "metadata": {},
          "execution_count": 19
        }
      ]
    },
    {
      "cell_type": "code",
      "source": [
        "#Data, I use to teach the machine:\n",
        "X=drug[['Age_scaled', 'Sex_int','BP_scaled','Cholesterol_scaled','Na_to_K_scaled']]\n",
        "y=drug['Drug_int']\n",
        "\n",
        "#train test- split\n",
        "from sklearn.model_selection import train_test_split\n",
        "X_train, X_test, y_train, y_test= train_test_split(X, y, test_size=0.30, random_state=1, stratify= y)"
      ],
      "metadata": {
        "id": "IHanNlIaUbQ2"
      },
      "execution_count": 20,
      "outputs": []
    },
    {
      "cell_type": "code",
      "source": [
        "#Next step to create a function to test more models and choose the best:\n",
        "from sklearn.metrics import accuracy_score\n",
        "from sklearn.neighbors import KNeighborsClassifier\n",
        "from sklearn.tree import DecisionTreeRegressor\n",
        "from sklearn.tree import DecisionTreeClassifier\n",
        "from sklearn.ensemble import RandomForestClassifier\n",
        "\n",
        "\n",
        "def get_acs(model, X_train, X_test, y_train, y_test):\n",
        " model.fit(X_train, y_train)\n",
        " y_pred=model.predict(X_test)\n",
        " acs=accuracy_score(y_test, y_pred)\n",
        " return(acs)\n",
        "\n",
        "models=[KNeighborsClassifier(n_neighbors=5),DecisionTreeRegressor(min_samples_split=2, min_samples_leaf=1),DecisionTreeClassifier(), RandomForestClassifier()]\n",
        "\n",
        "mds_acs={}\n",
        "for mod in models:\n",
        " my_acs=get_acs(mod, X_train, X_test, y_train, y_test)\n",
        " print(\"Model: %s \\t accuracy_score:  %f\" %(mod, my_acs))\n",
        " mds_acs[mod]=my_acs\n",
        "\n",
        "best_model = max(mds_acs, key=mds_acs.get)\n",
        "worst_model = min(mds_acs, key=mds_acs.get)\n",
        "print(best_model)"
      ],
      "metadata": {
        "colab": {
          "base_uri": "https://localhost:8080/"
        },
        "id": "fUxBLi3cU4NQ",
        "outputId": "e8efa181-6810-4756-abdc-bdc1f3715f31"
      },
      "execution_count": 21,
      "outputs": [
        {
          "output_type": "stream",
          "name": "stdout",
          "text": [
            "Model: KNeighborsClassifier() \t accuracy_score:  0.650000\n",
            "Model: DecisionTreeRegressor() \t accuracy_score:  1.000000\n",
            "Model: DecisionTreeClassifier() \t accuracy_score:  1.000000\n",
            "Model: RandomForestClassifier() \t accuracy_score:  1.000000\n",
            "DecisionTreeRegressor()\n"
          ]
        }
      ]
    },
    {
      "cell_type": "code",
      "source": [
        "#Evaluation\n",
        "\n",
        "best_model.fit(X_train, y_train)\n",
        "worst_model.fit(X_train, y_train)\n",
        "\n",
        "#Prediction\n",
        "y_pred1= best_model.predict(X_test)\n",
        "y_pred2= worst_model.predict(X_test)\n",
        "\n",
        "#Visualization of evaluation\n",
        "from sklearn.metrics import confusion_matrix, ConfusionMatrixDisplay\n",
        "print(\"best_model_confusion matrix:\", confusion_matrix(y_test, y_pred1))\n",
        "print(\"worst_model:\", confusion_matrix(y_test, y_pred2))\n",
        "cm1 = confusion_matrix(y_test, y_pred1)\n",
        "cm2 = confusion_matrix(y_test, y_pred2)\n",
        "\n",
        "plt.subplots(1, 2, figsize=(15,7))\n",
        "plt.subplot(1,2,1)\n",
        "sns.heatmap(cm1/np.sum(cm1), annot=True, fmt='.2%', cmap='Blues')\n",
        "plt.title('best_model')\n",
        "plt.ylabel('True label')\n",
        "plt.xlabel('Predicted label')\n",
        "\n",
        "\n",
        "plt.subplot(1,2,2)\n",
        "sns.heatmap(cm2/np.sum(cm2), annot=True, fmt='.2%', cmap='Blues')\n",
        "plt.title('worst_model')\n",
        "plt.ylabel('True label')\n",
        "plt.xlabel('Predicted label')\n",
        "plt.suptitle('Confusion matrices of the models')\n",
        "plt.show()"
      ],
      "metadata": {
        "colab": {
          "base_uri": "https://localhost:8080/",
          "height": 666
        },
        "id": "DCF-7WmtVCh4",
        "outputId": "4a0dd8fc-dff1-4a6b-f1ec-034a914ea7d8"
      },
      "execution_count": 22,
      "outputs": [
        {
          "output_type": "stream",
          "name": "stdout",
          "text": [
            "best_model_confusion matrix: [[ 7  0  0  0  0]\n",
            " [ 0  5  0  0  0]\n",
            " [ 0  0  5  0  0]\n",
            " [ 0  0  0 16  0]\n",
            " [ 0  0  0  0 27]]\n",
            "worst_model: [[ 6  0  0  0  1]\n",
            " [ 0  4  0  0  1]\n",
            " [ 0  0  5  0  0]\n",
            " [ 0  0  0 14  2]\n",
            " [ 4  2  4  7 10]]\n"
          ]
        },
        {
          "output_type": "display_data",
          "data": {
            "image/png": "[encoded data removed]",
            "text/plain": [
              "<Figure size 1080x504 with 4 Axes>"
            ]
          },
          "metadata": {
            "needs_background": "light"
          }
        }
      ]
    },
    {
      "cell_type": "code",
      "source": [
        "model=DecisionTreeClassifier(random_state=1)\n",
        "\n",
        "#Evaluation\n",
        "model=model.fit(X_train, y_train)\n",
        "\n",
        "from sklearn.tree import export_text\n",
        "r= export_text(model)\n",
        "print(r)"
      ],
      "metadata": {
        "colab": {
          "base_uri": "https://localhost:8080/"
        },
        "id": "1rvolJ_NVNiT",
        "outputId": "745e9459-d7b8-4abb-eaf7-b6c593d49688"
      },
      "execution_count": 23,
      "outputs": [
        {
          "output_type": "stream",
          "name": "stdout",
          "text": [
            "|--- feature_4 <= 0.27\n",
            "|   |--- feature_2 <= 0.75\n",
            "|   |   |--- feature_3 <= 0.50\n",
            "|   |   |   |--- class: 3\n",
            "|   |   |--- feature_3 >  0.50\n",
            "|   |   |   |--- feature_2 <= 0.25\n",
            "|   |   |   |   |--- class: 2\n",
            "|   |   |   |--- feature_2 >  0.25\n",
            "|   |   |   |   |--- class: 3\n",
            "|   |--- feature_2 >  0.75\n",
            "|   |   |--- feature_0 <= 0.60\n",
            "|   |   |   |--- class: 0\n",
            "|   |   |--- feature_0 >  0.60\n",
            "|   |   |   |--- class: 1\n",
            "|--- feature_4 >  0.27\n",
            "|   |--- class: 4\n",
            "\n"
          ]
        }
      ]
    },
    {
      "cell_type": "code",
      "source": [
        "from sklearn import tree\n",
        "plt.figure(figsize=[8, 8])\n",
        "tree.plot_tree(model)\n",
        "plt.title(\"Decision tree classifier\")\n",
        "plt.show()\n"
      ],
      "metadata": {
        "colab": {
          "base_uri": "https://localhost:8080/",
          "height": 482
        },
        "id": "NMJtSRpMd82y",
        "outputId": "ad16ac0b-d57e-4eee-82c1-af40ae65a250"
      },
      "execution_count": 24,
      "outputs": [
        {
          "output_type": "display_data",
          "data": {
            "image/png": "[encoded data removed]",
            "text/plain": [
              "<Figure size 576x576 with 1 Axes>"
            ]
          },
          "metadata": {
            "needs_background": "light"
          }
        }
      ]
    },
    {
      "cell_type": "code",
      "source": [
        "from sklearn.preprocessing import LabelEncoder\n",
        "\n",
        "def label_encoder(x):\n",
        "    le = LabelEncoder()\n",
        "    drug[x] = le.fit_transform(drug[x])"
      ],
      "metadata": {
        "id": "cDpyPgkbeCPr"
      },
      "execution_count": 25,
      "outputs": []
    },
    {
      "cell_type": "code",
      "source": [
        "categ = [\"Sex\",\"BP\",\"Cholesterol\",\"Drug\"]\n",
        "\n",
        "for l in categ:\n",
        "    label_encoder(l)"
      ],
      "metadata": {
        "id": "SIyN_PqHeMBv"
      },
      "execution_count": 26,
      "outputs": []
    },
    {
      "cell_type": "code",
      "source": [
        "drug.head()\n"
      ],
      "metadata": {
        "colab": {
          "base_uri": "https://localhost:8080/",
          "height": 206
        },
        "id": "08CSROjkeThp",
        "outputId": "7cdd93af-68f9-419d-e3e4-0669e6be8f97"
      },
      "execution_count": 27,
      "outputs": [
        {
          "output_type": "execute_result",
          "data": {
            "text/html": [
              "\n",
              "  <div id=\"df-83b09598-3b98-4570-8e33-3d401b9064a5\">\n",
              "    <div class=\"colab-df-container\">\n",
              "      <div>\n",
              "<style scoped>\n",
              "    .dataframe tbody tr th:only-of-type {\n",
              "        vertical-align: middle;\n",
              "    }\n",
              "\n",
              "    .dataframe tbody tr th {\n",
              "        vertical-align: top;\n",
              "    }\n",
              "\n",
              "    .dataframe thead th {\n",
              "        text-align: right;\n",
              "    }\n",
              "</style>\n",
              "<table border=\"1\" class=\"dataframe\">\n",
              "  <thead>\n",
              "    <tr style=\"text-align: right;\">\n",
              "      <th></th>\n",
              "      <th>Age</th>\n",
              "      <th>Sex</th>\n",
              "      <th>BP</th>\n",
              "      <th>Cholesterol</th>\n",
              "      <th>Na_to_K</th>\n",
              "      <th>Drug</th>\n",
              "      <th>Drug_int</th>\n",
              "      <th>Sex_int</th>\n",
              "      <th>BP_int</th>\n",
              "      <th>BP_scaled</th>\n",
              "      <th>Cholesterol_int</th>\n",
              "      <th>Cholesterol_scaled</th>\n",
              "      <th>Age_scaled</th>\n",
              "      <th>Na_to_K_scaled</th>\n",
              "    </tr>\n",
              "  </thead>\n",
              "  <tbody>\n",
              "    <tr>\n",
              "      <th>0</th>\n",
              "      <td>23</td>\n",
              "      <td>0</td>\n",
              "      <td>0</td>\n",
              "      <td>0</td>\n",
              "      <td>25.355</td>\n",
              "      <td>0</td>\n",
              "      <td>4</td>\n",
              "      <td>0</td>\n",
              "      <td>2</td>\n",
              "      <td>1.0</td>\n",
              "      <td>1</td>\n",
              "      <td>1.0</td>\n",
              "      <td>0.135593</td>\n",
              "      <td>0.596848</td>\n",
              "    </tr>\n",
              "    <tr>\n",
              "      <th>1</th>\n",
              "      <td>47</td>\n",
              "      <td>1</td>\n",
              "      <td>1</td>\n",
              "      <td>0</td>\n",
              "      <td>13.093</td>\n",
              "      <td>3</td>\n",
              "      <td>2</td>\n",
              "      <td>1</td>\n",
              "      <td>0</td>\n",
              "      <td>0.0</td>\n",
              "      <td>1</td>\n",
              "      <td>1.0</td>\n",
              "      <td>0.542373</td>\n",
              "      <td>0.213397</td>\n",
              "    </tr>\n",
              "    <tr>\n",
              "      <th>2</th>\n",
              "      <td>47</td>\n",
              "      <td>1</td>\n",
              "      <td>1</td>\n",
              "      <td>0</td>\n",
              "      <td>10.114</td>\n",
              "      <td>3</td>\n",
              "      <td>2</td>\n",
              "      <td>1</td>\n",
              "      <td>0</td>\n",
              "      <td>0.0</td>\n",
              "      <td>1</td>\n",
              "      <td>1.0</td>\n",
              "      <td>0.542373</td>\n",
              "      <td>0.120239</td>\n",
              "    </tr>\n",
              "    <tr>\n",
              "      <th>3</th>\n",
              "      <td>28</td>\n",
              "      <td>0</td>\n",
              "      <td>2</td>\n",
              "      <td>0</td>\n",
              "      <td>7.798</td>\n",
              "      <td>4</td>\n",
              "      <td>3</td>\n",
              "      <td>0</td>\n",
              "      <td>1</td>\n",
              "      <td>0.5</td>\n",
              "      <td>1</td>\n",
              "      <td>1.0</td>\n",
              "      <td>0.220339</td>\n",
              "      <td>0.047814</td>\n",
              "    </tr>\n",
              "    <tr>\n",
              "      <th>4</th>\n",
              "      <td>61</td>\n",
              "      <td>0</td>\n",
              "      <td>1</td>\n",
              "      <td>0</td>\n",
              "      <td>18.043</td>\n",
              "      <td>0</td>\n",
              "      <td>4</td>\n",
              "      <td>0</td>\n",
              "      <td>0</td>\n",
              "      <td>0.0</td>\n",
              "      <td>1</td>\n",
              "      <td>1.0</td>\n",
              "      <td>0.779661</td>\n",
              "      <td>0.368191</td>\n",
              "    </tr>\n",
              "  </tbody>\n",
              "</table>\n",
              "</div>\n",
              "      <button class=\"colab-df-convert\" onclick=\"convertToInteractive('df-83b09598-3b98-4570-8e33-3d401b9064a5')\"\n",
              "              title=\"Convert this dataframe to an interactive table.\"\n",
              "              style=\"display:none;\">\n",
              "        \n",
              "  <svg xmlns=\"http://www.w3.org/2000/svg\" height=\"24px\"viewBox=\"0 0 24 24\"\n",
              "       width=\"24px\">\n",
              "    <path d=\"M0 0h24v24H0V0z\" fill=\"none\"/>\n",
              "    <path d=\"M18.56 5.44l.94 2.06.94-2.06 2.06-.94-2.06-.94-.94-2.06-.94 2.06-2.06.94zm-11 1L8.5 8.5l.94-2.06 2.06-.94-2.06-.94L8.5 2.5l-.94 2.06-2.06.94zm10 10l.94 2.06.94-2.06 2.06-.94-2.06-.94-.94-2.06-.94 2.06-2.06.94z\"/><path d=\"M17.41 7.96l-1.37-1.37c-.4-.4-.92-.59-1.43-.59-.52 0-1.04.2-1.43.59L10.3 9.45l-7.72 7.72c-.78.78-.78 2.05 0 2.83L4 21.41c.39.39.9.59 1.41.59.51 0 1.02-.2 1.41-.59l7.78-7.78 2.81-2.81c.8-.78.8-2.07 0-2.86zM5.41 20L4 18.59l7.72-7.72 1.47 1.35L5.41 20z\"/>\n",
              "  </svg>\n",
              "      </button>\n",
              "      \n",
              "  <style>\n",
              "    .colab-df-container {\n",
              "      display:flex;\n",
              "      flex-wrap:wrap;\n",
              "      gap: 12px;\n",
              "    }\n",
              "\n",
              "    .colab-df-convert {\n",
              "      background-color: #E8F0FE;\n",
              "      border: none;\n",
              "      border-radius: 50%;\n",
              "      cursor: pointer;\n",
              "      display: none;\n",
              "      fill: #1967D2;\n",
              "      height: 32px;\n",
              "      padding: 0 0 0 0;\n",
              "      width: 32px;\n",
              "    }\n",
              "\n",
              "    .colab-df-convert:hover {\n",
              "      background-color: #E2EBFA;\n",
              "      box-shadow: 0px 1px 2px rgba(60, 64, 67, 0.3), 0px 1px 3px 1px rgba(60, 64, 67, 0.15);\n",
              "      fill: #174EA6;\n",
              "    }\n",
              "\n",
              "    [theme=dark] .colab-df-convert {\n",
              "      background-color: #3B4455;\n",
              "      fill: #D2E3FC;\n",
              "    }\n",
              "\n",
              "    [theme=dark] .colab-df-convert:hover {\n",
              "      background-color: #434B5C;\n",
              "      box-shadow: 0px 1px 3px 1px rgba(0, 0, 0, 0.15);\n",
              "      filter: drop-shadow(0px 1px 2px rgba(0, 0, 0, 0.3));\n",
              "      fill: #FFFFFF;\n",
              "    }\n",
              "  </style>\n",
              "\n",
              "      <script>\n",
              "        const buttonEl =\n",
              "          document.querySelector('#df-83b09598-3b98-4570-8e33-3d401b9064a5 button.colab-df-convert');\n",
              "        buttonEl.style.display =\n",
              "          google.colab.kernel.accessAllowed ? 'block' : 'none';\n",
              "\n",
              "        async function convertToInteractive(key) {\n",
              "          const element = document.querySelector('#df-83b09598-3b98-4570-8e33-3d401b9064a5');\n",
              "          const dataTable =\n",
              "            await google.colab.kernel.invokeFunction('convertToInteractive',\n",
              "                                                     [key], {});\n",
              "          if (!dataTable) return;\n",
              "\n",
              "          const docLinkHtml = 'Like what you see? Visit the ' +\n",
              "            '<a target=\"_blank\" href=https://colab.research.google.com/notebooks/data_table.ipynb>data table notebook</a>'\n",
              "            + ' to learn more about interactive tables.';\n",
              "          element.innerHTML = '';\n",
              "          dataTable['output_type'] = 'display_data';\n",
              "          await google.colab.output.renderOutput(dataTable, element);\n",
              "          const docLink = document.createElement('div');\n",
              "          docLink.innerHTML = docLinkHtml;\n",
              "          element.appendChild(docLink);\n",
              "        }\n",
              "      </script>\n",
              "    </div>\n",
              "  </div>\n",
              "  "
            ],
            "text/plain": [
              "   Age  Sex  BP  ...  Cholesterol_scaled  Age_scaled  Na_to_K_scaled\n",
              "0   23    0   0  ...                 1.0    0.135593        0.596848\n",
              "1   47    1   1  ...                 1.0    0.542373        0.213397\n",
              "2   47    1   1  ...                 1.0    0.542373        0.120239\n",
              "3   28    0   2  ...                 1.0    0.220339        0.047814\n",
              "4   61    0   1  ...                 1.0    0.779661        0.368191\n",
              "\n",
              "[5 rows x 14 columns]"
            ]
          },
          "metadata": {},
          "execution_count": 27
        }
      ]
    },
    {
      "cell_type": "code",
      "source": [
        "from sklearn.preprocessing import MinMaxScaler\n",
        "scaler = MinMaxScaler()"
      ],
      "metadata": {
        "id": "FSa6YeL-eYrQ"
      },
      "execution_count": 28,
      "outputs": []
    },
    {
      "cell_type": "code",
      "source": [
        "X_train = scaler.fit_transform(X_train)\n",
        "X_test = scaler.transform(X_test)"
      ],
      "metadata": {
        "id": "L9HJTNPjefsg"
      },
      "execution_count": 29,
      "outputs": []
    },
    {
      "cell_type": "code",
      "source": [
        "#Decision Tree\n",
        "from sklearn.tree import DecisionTreeClassifier\n",
        "clf = DecisionTreeClassifier().fit(X_train, y_train)\n",
        "print('Accuracy of Decision Tree classifier on training set: ', round((clf.score(X_train, y_train)),2))\n",
        "print('Accuracy of Decision Tree classifier on test set: ', round((clf.score(X_test, y_test)),2))"
      ],
      "metadata": {
        "colab": {
          "base_uri": "https://localhost:8080/"
        },
        "id": "PTTxs2lOeiMy",
        "outputId": "07a28d38-cc7b-40e5-98ec-0f83707b2099"
      },
      "execution_count": 30,
      "outputs": [
        {
          "output_type": "stream",
          "name": "stdout",
          "text": [
            "Accuracy of Decision Tree classifier on training set:  1.0\n",
            "Accuracy of Decision Tree classifier on test set:  1.0\n"
          ]
        }
      ]
    },
    {
      "cell_type": "code",
      "source": [
        "from sklearn.metrics import plot_confusion_matrix\n",
        "plot_confusion_matrix(clf, X_test, y_test, cmap=plt.cm.Blues)  \n",
        "plt.figure(figsize = (12, 12))\n",
        "plt.show()"
      ],
      "metadata": {
        "colab": {
          "base_uri": "https://localhost:8080/",
          "height": 350
        },
        "id": "EdYx6wGcelsD",
        "outputId": "51d458c6-d03d-4efe-c5ce-1b7d95bf7315"
      },
      "execution_count": 31,
      "outputs": [
        {
          "output_type": "stream",
          "name": "stderr",
          "text": [
            "/usr/local/lib/python3.7/dist-packages/sklearn/utils/deprecation.py:87: FutureWarning: Function plot_confusion_matrix is deprecated; Function `plot_confusion_matrix` is deprecated in 1.0 and will be removed in 1.2. Use one of the class methods: ConfusionMatrixDisplay.from_predictions or ConfusionMatrixDisplay.from_estimator.\n",
            "  warnings.warn(msg, category=FutureWarning)\n"
          ]
        },
        {
          "output_type": "display_data",
          "data": {
            "image/png": "[encoded data removed]",
            "text/plain": [
              "<Figure size 432x288 with 2 Axes>"
            ]
          },
          "metadata": {
            "needs_background": "light"
          }
        },
        {
          "output_type": "display_data",
          "data": {
            "text/plain": [
              "<Figure size 864x864 with 0 Axes>"
            ]
          },
          "metadata": {}
        }
      ]
    },
    {
      "cell_type": "code",
      "source": [
        "#Generating classification report\n",
        "from sklearn.metrics import classification_report\n",
        "y_pred = clf.predict(X_test)\n",
        "print(classification_report(y_test, y_pred))"
      ],
      "metadata": {
        "colab": {
          "base_uri": "https://localhost:8080/"
        },
        "id": "1cZbUru_es-x",
        "outputId": "06781a14-e78b-48d9-bff1-0a74541fde68"
      },
      "execution_count": 32,
      "outputs": [
        {
          "output_type": "stream",
          "name": "stdout",
          "text": [
            "              precision    recall  f1-score   support\n",
            "\n",
            "           0       1.00      1.00      1.00         7\n",
            "           1       1.00      1.00      1.00         5\n",
            "           2       1.00      1.00      1.00         5\n",
            "           3       1.00      1.00      1.00        16\n",
            "           4       1.00      1.00      1.00        27\n",
            "\n",
            "    accuracy                           1.00        60\n",
            "   macro avg       1.00      1.00      1.00        60\n",
            "weighted avg       1.00      1.00      1.00        60\n",
            "\n"
          ]
        }
      ]
    },
    {
      "cell_type": "code",
      "source": [
        "#KNN\n",
        "from sklearn.neighbors import KNeighborsClassifier\n",
        "knn = KNeighborsClassifier()\n",
        "knn.fit(X_train, y_train)\n",
        "print('Accuracy of K-NN classifier on training set: ', round((knn.score(X_train, y_train)),2))\n",
        "print('Accuracy of K-NN classifier on test set: ', round((knn.score(X_test, y_test)),2))"
      ],
      "metadata": {
        "colab": {
          "base_uri": "https://localhost:8080/"
        },
        "id": "z4rlJBOzewTh",
        "outputId": "fae46464-87eb-40b7-b675-0d2b1e3c4b2f"
      },
      "execution_count": 33,
      "outputs": [
        {
          "output_type": "stream",
          "name": "stdout",
          "text": [
            "Accuracy of K-NN classifier on training set:  0.86\n",
            "Accuracy of K-NN classifier on test set:  0.65\n"
          ]
        }
      ]
    },
    {
      "cell_type": "code",
      "source": [
        "#Naive Bayes Gaussian\n",
        "from sklearn.naive_bayes import GaussianNB\n",
        "gnb = GaussianNB()\n",
        "gnb.fit(X_train, y_train)\n",
        "print('Accuracy of GNB classifier on training set: ',round((gnb.score(X_train, y_train)),2))\n",
        "print('Accuracy of GNB classifier on test set: ',round((gnb.score(X_test, y_test)),2))"
      ],
      "metadata": {
        "colab": {
          "base_uri": "https://localhost:8080/"
        },
        "id": "zMkHdq2ue2dD",
        "outputId": "82899561-9853-4ddc-b443-239f5324a728"
      },
      "execution_count": 34,
      "outputs": [
        {
          "output_type": "stream",
          "name": "stdout",
          "text": [
            "Accuracy of GNB classifier on training set:  0.9\n",
            "Accuracy of GNB classifier on test set:  0.73\n"
          ]
        }
      ]
    },
    {
      "cell_type": "code",
      "source": [
        "#SVM\n",
        "from sklearn.svm import SVC\n",
        "svm = SVC()\n",
        "svm.fit(X_train, y_train)\n",
        "print('Accuracy of SVM classifier on training set: ', round((svm.score(X_train, y_train)),2))\n",
        "print('Accuracy of SVM classifier on test set: ', round((svm.score(X_test, y_test)),2))\n"
      ],
      "metadata": {
        "colab": {
          "base_uri": "https://localhost:8080/"
        },
        "id": "xeAe2NYce8hZ",
        "outputId": "10ef9196-4497-415e-b85b-9ebcaea1ef7c"
      },
      "execution_count": 35,
      "outputs": [
        {
          "output_type": "stream",
          "name": "stdout",
          "text": [
            "Accuracy of SVM classifier on training set:  0.89\n",
            "Accuracy of SVM classifier on test set:  0.63\n"
          ]
        }
      ]
    },
    {
      "cell_type": "code",
      "source": [
        "from sklearn.metrics import plot_confusion_matrix\n",
        "plot_confusion_matrix(svm, X_test, y_test, cmap=plt.cm.Blues)  \n",
        "plt.figure(figsize = (12, 12))\n",
        "plt.show()"
      ],
      "metadata": {
        "colab": {
          "base_uri": "https://localhost:8080/",
          "height": 354
        },
        "id": "8-za1wu2fDZ4",
        "outputId": "29a08c1a-48e5-4c81-d907-079c972c1ad7"
      },
      "execution_count": 36,
      "outputs": [
        {
          "output_type": "stream",
          "name": "stderr",
          "text": [
            "/usr/local/lib/python3.7/dist-packages/sklearn/utils/deprecation.py:87: FutureWarning: Function plot_confusion_matrix is deprecated; Function `plot_confusion_matrix` is deprecated in 1.0 and will be removed in 1.2. Use one of the class methods: ConfusionMatrixDisplay.from_predictions or ConfusionMatrixDisplay.from_estimator.\n",
            "  warnings.warn(msg, category=FutureWarning)\n"
          ]
        },
        {
          "output_type": "display_data",
          "data": {
            "image/png": "[encoded data removed]",
            "text/plain": [
              "<Figure size 432x288 with 2 Axes>"
            ]
          },
          "metadata": {
            "needs_background": "light"
          }
        },
        {
          "output_type": "display_data",
          "data": {
            "text/plain": [
              "<Figure size 864x864 with 0 Axes>"
            ]
          },
          "metadata": {}
        }
      ]
    },
    {
      "cell_type": "code",
      "source": [
        ""
      ],
      "metadata": {
        "id": "fBQhhBxpfIYB"
      },
      "execution_count": null,
      "outputs": []
    }
  ]
}